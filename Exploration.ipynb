{
 "cells": [
  {
   "cell_type": "code",
   "execution_count": 1,
   "metadata": {},
   "outputs": [],
   "source": [
    "import numpy as np\n",
    "\n",
    "import pandas as pd\n",
    "from pandas.api.types import CategoricalDtype\n",
    "\n",
    "%matplotlib inline\n",
    "import matplotlib.pyplot as plt\n",
    "import seaborn as sns\n",
    "\n",
    "from sklearn import linear_model as lm\n",
    "from sklearn.model_selection import train_test_split\n",
    "from sklearn.model_selection import KFold\n",
    "\n",
    "from sklearn.metrics import mean_squared_log_error\n",
    "from sklearn.ensemble import RandomForestRegressor\n",
    "\n",
    "import quandl\n",
    "quandl.ApiConfig.api_key = \"tzt74qzzscPX2KqxS_rD\"\n",
    "\n",
    "# Plot settings\n",
    "plt.rcParams['figure.figsize'] = (12, 9)\n",
    "plt.rcParams['font.size'] = 12"
   ]
  },
  {
   "cell_type": "code",
   "execution_count": 11,
   "metadata": {},
   "outputs": [
    {
     "data": {
      "text/html": [
       "<div>\n",
       "<style scoped>\n",
       "    .dataframe tbody tr th:only-of-type {\n",
       "        vertical-align: middle;\n",
       "    }\n",
       "\n",
       "    .dataframe tbody tr th {\n",
       "        vertical-align: top;\n",
       "    }\n",
       "\n",
       "    .dataframe thead th {\n",
       "        text-align: right;\n",
       "    }\n",
       "</style>\n",
       "<table border=\"1\" class=\"dataframe\">\n",
       "  <thead>\n",
       "    <tr style=\"text-align: right;\">\n",
       "      <th></th>\n",
       "      <th>ticker</th>\n",
       "      <th>date</th>\n",
       "      <th>open</th>\n",
       "      <th>high</th>\n",
       "      <th>low</th>\n",
       "      <th>close</th>\n",
       "      <th>volume</th>\n",
       "      <th>ex-dividend</th>\n",
       "      <th>split_ratio</th>\n",
       "      <th>adj_open</th>\n",
       "      <th>adj_high</th>\n",
       "      <th>adj_low</th>\n",
       "      <th>adj_close</th>\n",
       "      <th>adj_volume</th>\n",
       "    </tr>\n",
       "    <tr>\n",
       "      <th>None</th>\n",
       "      <th></th>\n",
       "      <th></th>\n",
       "      <th></th>\n",
       "      <th></th>\n",
       "      <th></th>\n",
       "      <th></th>\n",
       "      <th></th>\n",
       "      <th></th>\n",
       "      <th></th>\n",
       "      <th></th>\n",
       "      <th></th>\n",
       "      <th></th>\n",
       "      <th></th>\n",
       "      <th></th>\n",
       "    </tr>\n",
       "  </thead>\n",
       "  <tbody>\n",
       "    <tr>\n",
       "      <th>0</th>\n",
       "      <td>AAPL</td>\n",
       "      <td>2013-01-02</td>\n",
       "      <td>553.820</td>\n",
       "      <td>555.0000</td>\n",
       "      <td>541.6300</td>\n",
       "      <td>549.0300</td>\n",
       "      <td>20018500.0</td>\n",
       "      <td>0.0</td>\n",
       "      <td>1.0</td>\n",
       "      <td>71.816894</td>\n",
       "      <td>71.969911</td>\n",
       "      <td>70.236149</td>\n",
       "      <td>71.195748</td>\n",
       "      <td>140129500.0</td>\n",
       "    </tr>\n",
       "    <tr>\n",
       "      <th>1</th>\n",
       "      <td>AAPL</td>\n",
       "      <td>2013-01-03</td>\n",
       "      <td>547.880</td>\n",
       "      <td>549.6700</td>\n",
       "      <td>541.0000</td>\n",
       "      <td>542.0959</td>\n",
       "      <td>12605900.0</td>\n",
       "      <td>0.0</td>\n",
       "      <td>1.0</td>\n",
       "      <td>71.046621</td>\n",
       "      <td>71.278740</td>\n",
       "      <td>70.154453</td>\n",
       "      <td>70.296565</td>\n",
       "      <td>88241300.0</td>\n",
       "    </tr>\n",
       "    <tr>\n",
       "      <th>2</th>\n",
       "      <td>AAPL</td>\n",
       "      <td>2013-01-04</td>\n",
       "      <td>536.965</td>\n",
       "      <td>538.6299</td>\n",
       "      <td>525.8286</td>\n",
       "      <td>527.0000</td>\n",
       "      <td>21226200.0</td>\n",
       "      <td>0.0</td>\n",
       "      <td>1.0</td>\n",
       "      <td>69.631213</td>\n",
       "      <td>69.847109</td>\n",
       "      <td>68.187094</td>\n",
       "      <td>68.338996</td>\n",
       "      <td>148583400.0</td>\n",
       "    </tr>\n",
       "    <tr>\n",
       "      <th>3</th>\n",
       "      <td>AAPL</td>\n",
       "      <td>2013-01-07</td>\n",
       "      <td>522.000</td>\n",
       "      <td>529.3000</td>\n",
       "      <td>515.2000</td>\n",
       "      <td>523.9000</td>\n",
       "      <td>17291300.0</td>\n",
       "      <td>0.0</td>\n",
       "      <td>1.0</td>\n",
       "      <td>67.690619</td>\n",
       "      <td>68.637250</td>\n",
       "      <td>66.808825</td>\n",
       "      <td>67.937002</td>\n",
       "      <td>121039100.0</td>\n",
       "    </tr>\n",
       "    <tr>\n",
       "      <th>4</th>\n",
       "      <td>AAPL</td>\n",
       "      <td>2013-01-08</td>\n",
       "      <td>529.210</td>\n",
       "      <td>531.8900</td>\n",
       "      <td>521.2500</td>\n",
       "      <td>525.3100</td>\n",
       "      <td>16382400.0</td>\n",
       "      <td>0.0</td>\n",
       "      <td>1.0</td>\n",
       "      <td>68.625579</td>\n",
       "      <td>68.973109</td>\n",
       "      <td>67.593362</td>\n",
       "      <td>68.119845</td>\n",
       "      <td>114676800.0</td>\n",
       "    </tr>\n",
       "  </tbody>\n",
       "</table>\n",
       "</div>"
      ],
      "text/plain": [
       "     ticker       date     open      high       low     close      volume  \\\n",
       "None                                                                        \n",
       "0      AAPL 2013-01-02  553.820  555.0000  541.6300  549.0300  20018500.0   \n",
       "1      AAPL 2013-01-03  547.880  549.6700  541.0000  542.0959  12605900.0   \n",
       "2      AAPL 2013-01-04  536.965  538.6299  525.8286  527.0000  21226200.0   \n",
       "3      AAPL 2013-01-07  522.000  529.3000  515.2000  523.9000  17291300.0   \n",
       "4      AAPL 2013-01-08  529.210  531.8900  521.2500  525.3100  16382400.0   \n",
       "\n",
       "      ex-dividend  split_ratio   adj_open   adj_high    adj_low  adj_close  \\\n",
       "None                                                                         \n",
       "0             0.0          1.0  71.816894  71.969911  70.236149  71.195748   \n",
       "1             0.0          1.0  71.046621  71.278740  70.154453  70.296565   \n",
       "2             0.0          1.0  69.631213  69.847109  68.187094  68.338996   \n",
       "3             0.0          1.0  67.690619  68.637250  66.808825  67.937002   \n",
       "4             0.0          1.0  68.625579  68.973109  67.593362  68.119845   \n",
       "\n",
       "       adj_volume  \n",
       "None               \n",
       "0     140129500.0  \n",
       "1      88241300.0  \n",
       "2     148583400.0  \n",
       "3     121039100.0  \n",
       "4     114676800.0  "
      ]
     },
     "execution_count": 11,
     "metadata": {},
     "output_type": "execute_result"
    }
   ],
   "source": [
    "# TODO: Adjust dates to get the latest possible!\n",
    "quandl.get_table('WIKI/PRICES',\n",
    "                        ticker=['AAPL', 'MSFT', 'FB'],\n",
    "                        date = { 'gte': '2013-01-01', 'lte': '2018-03-30' },\n",
    "                        paginate=True).head()"
   ]
  },
  {
   "cell_type": "code",
   "execution_count": 2,
   "metadata": {},
   "outputs": [],
   "source": [
    "# TODO: Adjust dates to get the latest possible!\n",
    "data = quandl.get_table('WIKI/PRICES',\n",
    "                        qopts = { 'columns': ['ticker', 'date', 'close'] },\n",
    "                        ticker=['AAPL', 'MSFT', 'FB'],\n",
    "                        date = { 'gte': '2013-01-01', 'lte': '2018-03-30' },\n",
    "                        paginate=True)"
   ]
  },
  {
   "cell_type": "code",
   "execution_count": 3,
   "metadata": {},
   "outputs": [],
   "source": [
    "data['ticker'] = data['ticker'].astype('category').cat.codes\n",
    "data['day'] = (data['date'] - data['date'].min()).dt.days"
   ]
  },
  {
   "cell_type": "code",
   "execution_count": 4,
   "metadata": {},
   "outputs": [
    {
     "name": "stdout",
     "output_type": "stream",
     "text": [
      "0 1910\n"
     ]
    }
   ],
   "source": [
    "data = data[['ticker', 'day', 'close']]\n",
    "print(data['day'].min(), data['day'].max())\n",
    "LAST_DAY = data['day'].max()"
   ]
  },
  {
   "cell_type": "code",
   "execution_count": 5,
   "metadata": {},
   "outputs": [],
   "source": [
    "def rmsle(ytrue, ypred):\n",
    "    return np.sqrt(mean_squared_log_error(ytrue, ypred))\n",
    "def split(high, size):\n",
    "    t = np.arange(high)\n",
    "    x = np.random.choice(high, int(high * (size)), replace=False)\n",
    "    y = np.array([i for i in t if i not in x])\n",
    "    return x, y"
   ]
  },
  {
   "cell_type": "code",
   "execution_count": 6,
   "metadata": {},
   "outputs": [
    {
     "name": "stdout",
     "output_type": "stream",
     "text": [
      "RMSLE Error: 0.08394\n",
      "RMSLE Error: 0.05014\n",
      "RMSLE Error: 0.02272\n",
      "RMSLE Error: 0.01793\n",
      "RMSLE Error: 0.02237\n",
      "RMSLE Error: 0.01071\n",
      "Mean Error = 0.03464\n"
     ]
    }
   ],
   "source": [
    "# MODEL 1: A Random Forest Regressor\n",
    "def build_random_forest(df):\n",
    "    mean_error = []\n",
    "    sizes = [1/5, 2/5, 1/2, 3/5, 4/5, 99/100]\n",
    "    for size in sizes:\n",
    "        t, v = split(1823, size)\n",
    "        train = data[data['day'].isin(t)]\n",
    "        val = data[data['day'].isin(v)]\n",
    "\n",
    "        xtr, xts = train.drop(['close'], axis=1), val.drop(['close'], axis=1)\n",
    "        ytr, yts = train['close'].values, val['close'].values\n",
    "\n",
    "        mdl = RandomForestRegressor(n_estimators=1000, n_jobs=-1, random_state=0)\n",
    "        mdl.fit(xtr, ytr)\n",
    "\n",
    "        p = mdl.predict(xts)\n",
    "\n",
    "        error = rmsle(yts, p)\n",
    "        print('RMSLE Error: %.5f' % (error))\n",
    "        mean_error.append(error)\n",
    "    print('Mean Error = %.5f' % np.mean(mean_error))\n",
    "    return mdl\n",
    "forest = build_random_forest(data)"
   ]
  },
  {
   "cell_type": "code",
   "execution_count": 7,
   "metadata": {},
   "outputs": [
    {
     "data": {
      "text/plain": [
       "array([ 169.92124,  176.88304,   85.59365])"
      ]
     },
     "execution_count": 7,
     "metadata": {},
     "output_type": "execute_result"
    }
   ],
   "source": [
    "def predict_future_stock_values(mdl, days_out):\n",
    "    abs_day = LAST_DAY + days_out\n",
    "    # Warning: Columns must be ordered properly for predictor to work!\n",
    "    x = pd.DataFrame({'ticker': [0,1,2], 'day': [abs_day] * 3})\n",
    "    x = x[['ticker', 'day']]\n",
    "    return mdl.predict(x)\n",
    "predict_future_stock_values(forest, 360)"
   ]
  },
  {
   "cell_type": "code",
   "execution_count": 8,
   "metadata": {},
   "outputs": [
    {
     "name": "stdout",
     "output_type": "stream",
     "text": [
      "RMSLE Error: 0.04673\n",
      "RMSLE Error: 0.07412\n",
      "RMSLE Error: 0.01818\n",
      "RMSLE Error: 0.01724\n",
      "RMSLE Error: 0.01416\n",
      "RMSLE Error: 0.00756\n",
      "Mean Error = 0.02966\n"
     ]
    }
   ],
   "source": [
    "# Featuring lag & diff\n",
    "data2 = data.copy()\n",
    "data2['last_day_close'] = data2.groupby(['ticker'])['close'].shift()\n",
    "data2['last_day_diff'] = data2.groupby(['ticker'])['last_day_close'].diff()\n",
    "data2 = data2.dropna()\n",
    "data2\n",
    "\n",
    "forest2 = build_random_forest(data2)"
   ]
  },
  {
   "cell_type": "code",
   "execution_count": 12,
   "metadata": {},
   "outputs": [
    {
     "data": {
      "text/plain": [
       "array([ 169.91251,  176.91611,   85.59108])"
      ]
     },
     "execution_count": 12,
     "metadata": {},
     "output_type": "execute_result"
    }
   ],
   "source": [
    "predict_future_stock_values(forest2, 0)"
   ]
  },
  {
   "cell_type": "code",
   "execution_count": 24,
   "metadata": {},
   "outputs": [],
   "source": [
    "# def build_linear_regressor():\n",
    "X = data2.drop(['close'], axis = 1)\n",
    "y = data2['close']\n",
    "linreg = lm.LinearRegression(fit_intercept=True)\n",
    "linreg.fit(X, y)\n",
    "y_fitted = linreg.predict(X)\n",
    "print(y_fitted)"
   ]
  },
  {
   "cell_type": "code",
   "execution_count": 10,
   "metadata": {},
   "outputs": [
    {
     "data": {
      "text/plain": [
       "'\\nImprovements:\\n    - Linear Regression (+ Regularization)\\n    - Recurrent Neural Network (e.g. LSTM)\\n    - Convert time series to stationary\\n    - Uniform Scaling for each time series\\n'"
      ]
     },
     "execution_count": 10,
     "metadata": {},
     "output_type": "execute_result"
    }
   ],
   "source": [
    "\"\"\"\n",
    "Improvements:\n",
    "    - Linear Regression (+ Regularization)\n",
    "    - Recurrent Neural Network (e.g. LSTM)\n",
    "    - Convert time series to stationary\n",
    "    - Uniform Scaling for each time series\n",
    "\"\"\""
   ]
  }
 ],
 "metadata": {
  "kernelspec": {
   "display_name": "Python 3",
   "language": "python",
   "name": "python3"
  },
  "language_info": {
   "codemirror_mode": {
    "name": "ipython",
    "version": 3
   },
   "file_extension": ".py",
   "mimetype": "text/x-python",
   "name": "python",
   "nbconvert_exporter": "python",
   "pygments_lexer": "ipython3",
   "version": "3.6.4"
  }
 },
 "nbformat": 4,
 "nbformat_minor": 2
}
