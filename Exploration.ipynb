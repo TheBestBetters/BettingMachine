{
 "cells": [
  {
   "cell_type": "code",
   "execution_count": 35,
   "metadata": {},
   "outputs": [],
   "source": [
    "import numpy as np\n",
    "\n",
    "import pandas as pd\n",
    "from pandas.api.types import CategoricalDtype\n",
    "\n",
    "%matplotlib inline\n",
    "import matplotlib.pyplot as plt\n",
    "import seaborn as sns\n",
    "\n",
    "from sklearn import linear_model as lm\n",
    "from sklearn import preprocessing as pre\n",
    "from sklearn.model_selection import train_test_split\n",
    "\n",
    "from sklearn.metrics import mean_squared_error\n",
    "from sklearn.ensemble import RandomForestRegressor\n",
    "\n",
    "import quandl\n",
    "quandl.ApiConfig.api_key = \"tzt74qzzscPX2KqxS_rD\"\n",
    "\n",
    "# Plot settings\n",
    "plt.rcParams['figure.figsize'] = (12, 9)\n",
    "plt.rcParams['font.size'] = 12"
   ]
  },
  {
   "cell_type": "code",
   "execution_count": 73,
   "metadata": {},
   "outputs": [
    {
     "data": {
      "text/html": [
       "<div>\n",
       "<style scoped>\n",
       "    .dataframe tbody tr th:only-of-type {\n",
       "        vertical-align: middle;\n",
       "    }\n",
       "\n",
       "    .dataframe tbody tr th {\n",
       "        vertical-align: top;\n",
       "    }\n",
       "\n",
       "    .dataframe thead th {\n",
       "        text-align: right;\n",
       "    }\n",
       "</style>\n",
       "<table border=\"1\" class=\"dataframe\">\n",
       "  <thead>\n",
       "    <tr style=\"text-align: right;\">\n",
       "      <th></th>\n",
       "      <th>Symbol</th>\n",
       "      <th>Name</th>\n",
       "      <th>Sector</th>\n",
       "      <th>Risk</th>\n",
       "    </tr>\n",
       "  </thead>\n",
       "  <tbody>\n",
       "    <tr>\n",
       "      <th>0</th>\n",
       "      <td>MMM</td>\n",
       "      <td>3M Company</td>\n",
       "      <td>Industrials</td>\n",
       "      <td>0.000000</td>\n",
       "    </tr>\n",
       "    <tr>\n",
       "      <th>1</th>\n",
       "      <td>ABT</td>\n",
       "      <td>Abbott Laboratories</td>\n",
       "      <td>Health Care</td>\n",
       "      <td>0.290338</td>\n",
       "    </tr>\n",
       "    <tr>\n",
       "      <th>2</th>\n",
       "      <td>ABBV</td>\n",
       "      <td>AbbVie</td>\n",
       "      <td>Health Care</td>\n",
       "      <td>0.374926</td>\n",
       "    </tr>\n",
       "    <tr>\n",
       "      <th>3</th>\n",
       "      <td>ACN</td>\n",
       "      <td>Accenture plc</td>\n",
       "      <td>Information Technology</td>\n",
       "      <td>0.258289</td>\n",
       "    </tr>\n",
       "    <tr>\n",
       "      <th>4</th>\n",
       "      <td>ATVI</td>\n",
       "      <td>Activision Blizzard</td>\n",
       "      <td>Information Technology</td>\n",
       "      <td>0.395041</td>\n",
       "    </tr>\n",
       "  </tbody>\n",
       "</table>\n",
       "</div>"
      ],
      "text/plain": [
       "  Symbol                 Name                  Sector      Risk\n",
       "0    MMM           3M Company             Industrials  0.000000\n",
       "1    ABT  Abbott Laboratories             Health Care  0.290338\n",
       "2   ABBV               AbbVie             Health Care  0.374926\n",
       "3    ACN        Accenture plc  Information Technology  0.258289\n",
       "4   ATVI  Activision Blizzard  Information Technology  0.395041"
      ]
     },
     "execution_count": 73,
     "metadata": {},
     "output_type": "execute_result"
    }
   ],
   "source": [
    "# Load info for sp500\n",
    "sp500_general = pd.read_csv('constituents.csv')\n",
    "sp500_risks = pd.read_csv('company_risk.csv')\n",
    "sp500 = sp500_general.merge(sp500_risks, on='Symbol')\n",
    "\n",
    "# Normalize the TotalRisk Column.\n",
    "min_max_scaler = pre.MinMaxScaler()\n",
    "sp500['Risk'] = min_max_scaler.fit_transform(sp500['Risk'].values.reshape(-1, 1)).flatten()\n",
    "\n",
    "sp500.head()"
   ]
  },
  {
   "cell_type": "code",
   "execution_count": 86,
   "metadata": {},
   "outputs": [
    {
     "data": {
      "text/plain": [
       "MSFT    1317\n",
       "FB      1317\n",
       "AAPL    1316\n",
       "Name: ticker, dtype: int64"
      ]
     },
     "execution_count": 86,
     "metadata": {},
     "output_type": "execute_result"
    }
   ],
   "source": [
    "data = quandl.get_table('WIKI/PRICES',\n",
    "                        qopts = { 'columns': ['ticker', 'date', 'close'] },\n",
    "                        ticker= ['AAPL', 'MSFT', 'FB'],\n",
    "                        date = { 'gte': '2013-01-01', 'lte': '2018-03-30' },\n",
    "                        paginate=True)\n",
    "data['ticker'].value_counts()"
   ]
  },
  {
   "cell_type": "code",
   "execution_count": 3,
   "metadata": {},
   "outputs": [],
   "source": [
    "data['ticker'] = data['ticker'].astype('category').cat.codes\n",
    "data['day'] = (data['date'] - data['date'].min()).dt.days\n",
    "data = data.drop(['date'], axis=1)\n",
    "data['last_day_close'] = data.groupby(['ticker'])['close'].shift()\n",
    "data['last_day_diff'] = data.groupby(['ticker'])['last_day_close'].diff()\n",
    "data = data.dropna()\n",
    "LAST_DAY = data['day'].max()"
   ]
  },
  {
   "cell_type": "code",
   "execution_count": 4,
   "metadata": {},
   "outputs": [
    {
     "data": {
      "text/html": [
       "<div>\n",
       "<style scoped>\n",
       "    .dataframe tbody tr th:only-of-type {\n",
       "        vertical-align: middle;\n",
       "    }\n",
       "\n",
       "    .dataframe tbody tr th {\n",
       "        vertical-align: top;\n",
       "    }\n",
       "\n",
       "    .dataframe thead th {\n",
       "        text-align: right;\n",
       "    }\n",
       "</style>\n",
       "<table border=\"1\" class=\"dataframe\">\n",
       "  <thead>\n",
       "    <tr style=\"text-align: right;\">\n",
       "      <th></th>\n",
       "      <th>ticker</th>\n",
       "      <th>close</th>\n",
       "      <th>day</th>\n",
       "      <th>last_day_close</th>\n",
       "      <th>last_day_diff</th>\n",
       "    </tr>\n",
       "    <tr>\n",
       "      <th>None</th>\n",
       "      <th></th>\n",
       "      <th></th>\n",
       "      <th></th>\n",
       "      <th></th>\n",
       "      <th></th>\n",
       "    </tr>\n",
       "  </thead>\n",
       "  <tbody>\n",
       "    <tr>\n",
       "      <th>2</th>\n",
       "      <td>0</td>\n",
       "      <td>527.00</td>\n",
       "      <td>2</td>\n",
       "      <td>542.0959</td>\n",
       "      <td>-6.9341</td>\n",
       "    </tr>\n",
       "    <tr>\n",
       "      <th>3</th>\n",
       "      <td>0</td>\n",
       "      <td>523.90</td>\n",
       "      <td>5</td>\n",
       "      <td>527.0000</td>\n",
       "      <td>-15.0959</td>\n",
       "    </tr>\n",
       "    <tr>\n",
       "      <th>4</th>\n",
       "      <td>0</td>\n",
       "      <td>525.31</td>\n",
       "      <td>6</td>\n",
       "      <td>523.9000</td>\n",
       "      <td>-3.1000</td>\n",
       "    </tr>\n",
       "    <tr>\n",
       "      <th>5</th>\n",
       "      <td>0</td>\n",
       "      <td>517.10</td>\n",
       "      <td>7</td>\n",
       "      <td>525.3100</td>\n",
       "      <td>1.4100</td>\n",
       "    </tr>\n",
       "    <tr>\n",
       "      <th>6</th>\n",
       "      <td>0</td>\n",
       "      <td>523.51</td>\n",
       "      <td>8</td>\n",
       "      <td>517.1000</td>\n",
       "      <td>-8.2100</td>\n",
       "    </tr>\n",
       "  </tbody>\n",
       "</table>\n",
       "</div>"
      ],
      "text/plain": [
       "      ticker   close  day  last_day_close  last_day_diff\n",
       "None                                                    \n",
       "2          0  527.00    2        542.0959        -6.9341\n",
       "3          0  523.90    5        527.0000       -15.0959\n",
       "4          0  525.31    6        523.9000        -3.1000\n",
       "5          0  517.10    7        525.3100         1.4100\n",
       "6          0  523.51    8        517.1000        -8.2100"
      ]
     },
     "execution_count": 4,
     "metadata": {},
     "output_type": "execute_result"
    }
   ],
   "source": [
    "data.head()"
   ]
  },
  {
   "cell_type": "code",
   "execution_count": 5,
   "metadata": {},
   "outputs": [],
   "source": [
    "def ttsplit(df, train_size):\n",
    "    X = df.drop(['close'], axis = 1)\n",
    "    y = df['close']\n",
    "    return train_test_split(X, y, train_size=train_size, random_state=42)"
   ]
  },
  {
   "cell_type": "code",
   "execution_count": 6,
   "metadata": {},
   "outputs": [
    {
     "name": "stderr",
     "output_type": "stream",
     "text": [
      "/usr/local/miniconda3/envs/data100/lib/python3.6/site-packages/sklearn/model_selection/_split.py:2026: FutureWarning: From version 0.21, test_size will always complement train_size unless both are specified.\n",
      "  FutureWarning)\n"
     ]
    },
    {
     "name": "stdout",
     "output_type": "stream",
     "text": [
      "RMSE Error: 112.13585\n",
      "Mean Error = 112.13585\n"
     ]
    }
   ],
   "source": [
    "# MODEL 1: A Random Forest Regressor\n",
    "def build_random_forest(df):\n",
    "    mean_error = []\n",
    "    sizes = [1/4]\n",
    "    for size in sizes:\n",
    "        xtr, xts, ytr, yts = ttsplit(df, size)\n",
    "\n",
    "        mdl = RandomForestRegressor(n_estimators=1000, n_jobs=-1, random_state=0)\n",
    "        mdl.fit(xtr, ytr)\n",
    "\n",
    "        p = mdl.predict(xts)\n",
    "\n",
    "        error = mean_squared_error(yts, p)\n",
    "        print('RMSE Error: %.5f' % (error))\n",
    "        mean_error.append(error)\n",
    "    print('Mean Error = %.5f' % np.mean(mean_error))\n",
    "    return mdl\n",
    "forest = build_random_forest(data)"
   ]
  },
  {
   "cell_type": "code",
   "execution_count": 7,
   "metadata": {},
   "outputs": [
    {
     "name": "stdout",
     "output_type": "stream",
     "text": [
      "The validation RMSE for this model is 111.22.\n"
     ]
    },
    {
     "name": "stderr",
     "output_type": "stream",
     "text": [
      "/usr/local/miniconda3/envs/data100/lib/python3.6/site-packages/sklearn/model_selection/_split.py:2026: FutureWarning: From version 0.21, test_size will always complement train_size unless both are specified.\n",
      "  FutureWarning)\n"
     ]
    }
   ],
   "source": [
    "def build_linear_regressor_test(df):\n",
    "    X_train, X_test, y_train, y_test = ttsplit(df, 0.25)\n",
    "    \n",
    "    # Fit and predict\n",
    "    model = lm.LinearRegression(fit_intercept=True)\n",
    "    model.fit(X_train, y_train)\n",
    "    y_predicted = model.predict(X_test)\n",
    "    \n",
    "    print(f'The validation RMSE for this model is '\n",
    "          f'{round(mean_squared_error(y_test, y_predicted), 2)}.')\n",
    "\n",
    "    return model\n",
    "linear = build_linear_regressor_test(data)"
   ]
  },
  {
   "cell_type": "code",
   "execution_count": 25,
   "metadata": {},
   "outputs": [
    {
     "name": "stderr",
     "output_type": "stream",
     "text": [
      "/usr/local/miniconda3/envs/data100/lib/python3.6/site-packages/sklearn/model_selection/_split.py:2026: FutureWarning: From version 0.21, test_size will always complement train_size unless both are specified.\n",
      "  FutureWarning)\n",
      "/usr/local/miniconda3/envs/data100/lib/python3.6/site-packages/sklearn/linear_model/coordinate_descent.py:473: UserWarning: Coordinate descent with alpha=0 may lead to unexpected results and is discouraged.\n",
      "  tol, rng, random, positive)\n",
      "/usr/local/miniconda3/envs/data100/lib/python3.6/site-packages/sklearn/linear_model/coordinate_descent.py:491: ConvergenceWarning: Objective did not converge. You might want to increase the number of iterations. Fitting data with very small alpha may cause precision problems.\n",
      "  ConvergenceWarning)\n"
     ]
    },
    {
     "name": "stdout",
     "output_type": "stream",
     "text": [
      "The validation RMSE for this model with alpha=0.2 is 346.61.\n"
     ]
    }
   ],
   "source": [
    "scaler = pre.StandardScaler()\n",
    "\n",
    "def build_elastic_net_predictor(df):\n",
    "    scaler = pre.StandardScaler()\n",
    "    X_train, X_test, y_train, y_test = ttsplit(df, 0.25)\n",
    "    \n",
    "    l1_ratios = np.arange(0, 1.1, .1)\n",
    "    alphas = np.arange(0.1, 200.1, .1)\n",
    "    model = lm.ElasticNetCV(l1_ratio=l1_ratios,\n",
    "                            alphas=alphas,\n",
    "                            cv=5,\n",
    "                            fit_intercept=True,\n",
    "                            max_iter=5000)\n",
    "\n",
    "    # Fit and predict\n",
    "    model.fit(scaler.fit_transform(X_train), y_train)\n",
    "    y_predicted = model.predict(scaler.fit_transform(X_test))\n",
    "\n",
    "    print(f'The validation RMSE for this model with '\n",
    "          f'alpha={round(float(model.alpha_), 2)} is '\n",
    "          f'{round(mean_squared_error(y_test, y_predicted), 2)}.')\n",
    "    \n",
    "    return model\n",
    "elastic = build_elastic_net_predictor(data)"
   ]
  },
  {
   "cell_type": "code",
   "execution_count": 28,
   "metadata": {},
   "outputs": [
    {
     "name": "stdout",
     "output_type": "stream",
     "text": [
      "DAY 1911\n",
      "          close   day  last_day_close  last_day_diff  ticker\n",
      "None                                                        \n",
      "3946  89.790000  1905           92.48          -0.65       2\n",
      "3947  87.180000  1906           89.79          -2.69       2\n",
      "3948  93.780000  1909           87.18          -2.61       2\n",
      "3949  89.470000  1910           93.78           6.60       2\n",
      "3949 -43.873228  1911           89.47          -4.31       2\n",
      "DAY 1912\n"
     ]
    },
    {
     "name": "stderr",
     "output_type": "stream",
     "text": [
      "/usr/local/miniconda3/envs/data100/lib/python3.6/site-packages/ipykernel_launcher.py:13: SettingWithCopyWarning: \n",
      "A value is trying to be set on a copy of a slice from a DataFrame.\n",
      "Try using .loc[row_indexer,col_indexer] = value instead\n",
      "\n",
      "See the caveats in the documentation: http://pandas.pydata.org/pandas-docs/stable/indexing.html#indexing-view-versus-copy\n",
      "  del sys.path[0]\n",
      "/usr/local/miniconda3/envs/data100/lib/python3.6/site-packages/ipykernel_launcher.py:14: SettingWithCopyWarning: \n",
      "A value is trying to be set on a copy of a slice from a DataFrame.\n",
      "Try using .loc[row_indexer,col_indexer] = value instead\n",
      "\n",
      "See the caveats in the documentation: http://pandas.pydata.org/pandas-docs/stable/indexing.html#indexing-view-versus-copy\n",
      "  \n",
      "/usr/local/miniconda3/envs/data100/lib/python3.6/site-packages/ipykernel_launcher.py:15: SettingWithCopyWarning: \n",
      "A value is trying to be set on a copy of a slice from a DataFrame.\n",
      "Try using .loc[row_indexer,col_indexer] = value instead\n",
      "\n",
      "See the caveats in the documentation: http://pandas.pydata.org/pandas-docs/stable/indexing.html#indexing-view-versus-copy\n",
      "  from ipykernel import kernelapp as app\n"
     ]
    },
    {
     "name": "stdout",
     "output_type": "stream",
     "text": [
      "          close   day  last_day_close  last_day_diff  ticker\n",
      "None                                                        \n",
      "3947  87.180000  1906       89.790000      -2.690000       2\n",
      "3948  93.780000  1909       87.180000      -2.610000       2\n",
      "3949  89.470000  1910       93.780000       6.600000       2\n",
      "3949 -43.873228  1911       89.470000      -4.310000       2\n",
      "3949 -43.843856  1912      -43.873228    -133.343228       2\n",
      "DAY 1913\n",
      "           close   day  last_day_close  last_day_diff  ticker\n",
      "None                                                         \n",
      "3948   93.780000  1909       87.180000      -2.610000       2\n",
      "3949   89.470000  1910       93.780000       6.600000       2\n",
      "3949  -43.873228  1911       89.470000      -4.310000       2\n",
      "3949  -43.843856  1912      -43.873228    -133.343228       2\n",
      "3949  281.626601  1913      -43.843856       0.029372       2\n",
      "DAY 1914\n",
      "           close   day  last_day_close  last_day_diff  ticker\n",
      "None                                                         \n",
      "3949   89.470000  1910       93.780000       6.600000       2\n",
      "3949  -43.873228  1911       89.470000      -4.310000       2\n",
      "3949  -43.843856  1912      -43.873228    -133.343228       2\n",
      "3949  281.626601  1913      -43.843856       0.029372       2\n",
      "3949  280.590879  1914      281.626601     325.470457       2\n",
      "DAY 1915\n",
      "           close   day  last_day_close  last_day_diff  ticker\n",
      "None                                                         \n",
      "3949  -43.873228  1911       89.470000      -4.310000       2\n",
      "3949  -43.843856  1912      -43.873228    -133.343228       2\n",
      "3949  281.626601  1913      -43.843856       0.029372       2\n",
      "3949  280.590879  1914      281.626601     325.470457       2\n",
      "3949  102.661750  1915      280.590879      -1.035721       2\n",
      "DAY 1916\n",
      "           close   day  last_day_close  last_day_diff  ticker\n",
      "None                                                         \n",
      "3949  -43.843856  1912      -43.873228    -133.343228       2\n",
      "3949  281.626601  1913      -43.843856       0.029372       2\n",
      "3949  280.590879  1914      281.626601     325.470457       2\n",
      "3949  102.661750  1915      280.590879      -1.035721       2\n",
      "3949  -10.620621  1916      102.661750    -177.929129       2\n",
      "DAY 1917\n",
      "           close   day  last_day_close  last_day_diff  ticker\n",
      "None                                                         \n",
      "3949  281.626601  1913      -43.843856       0.029372       2\n",
      "3949  280.590879  1914      281.626601     325.470457       2\n",
      "3949  102.661750  1915      280.590879      -1.035721       2\n",
      "3949  -10.620621  1916      102.661750    -177.929129       2\n",
      "3949  -27.497214  1917      -10.620621    -113.282372       2\n",
      "DAY 1918\n",
      "           close   day  last_day_close  last_day_diff  ticker\n",
      "None                                                         \n",
      "3949  280.590879  1914      281.626601     325.470457       2\n",
      "3949  102.661750  1915      280.590879      -1.035721       2\n",
      "3949  -10.620621  1916      102.661750    -177.929129       2\n",
      "3949  -27.497214  1917      -10.620621    -113.282372       2\n",
      "3949  102.167050  1918      -27.497214     -16.876592       2\n",
      "DAY 1919\n",
      "           close   day  last_day_close  last_day_diff  ticker\n",
      "None                                                         \n",
      "3949  102.661750  1915      280.590879      -1.035721       2\n",
      "3949  -10.620621  1916      102.661750    -177.929129       2\n",
      "3949  -27.497214  1917      -10.620621    -113.282372       2\n",
      "3949  102.167050  1918      -27.497214     -16.876592       2\n",
      "3949  254.427440  1919      102.167050     129.664264       2\n",
      "DAY 1920\n",
      "           close   day  last_day_close  last_day_diff  ticker\n",
      "None                                                         \n",
      "3949  -10.620621  1916      102.661750    -177.929129       2\n",
      "3949  -27.497214  1917      -10.620621    -113.282372       2\n",
      "3949  102.167050  1918      -27.497214     -16.876592       2\n",
      "3949  254.427440  1919      102.167050     129.664264       2\n",
      "3949  265.810385  1920      254.427440     152.260390       2\n"
     ]
    }
   ],
   "source": [
    "def predict_future_stock_values(mdl, source_df, days_out):\n",
    "    abs_day = LAST_DAY + days_out\n",
    "    # Warning: Columns must be ordered properly for predictor to work!\n",
    "    tickers = source_df['ticker'].unique()\n",
    "    days = np.arange(LAST_DAY + 1, abs_day + 1, 1)\n",
    "\n",
    "    x = source_df.copy()\n",
    "    for d in days:\n",
    "        print(\"DAY {}\".format(d))\n",
    "        \n",
    "        # Construct a dataframe for the next day, borrowing appropriate values.\n",
    "        i = x[x['day'] == x['day'].max()]\n",
    "        i['day'] += 1\n",
    "        i['last_day_diff'] = i['close'] - i['last_day_close']\n",
    "        i['last_day_close'] = i['close']\n",
    "        i = i.drop(['close'], axis=1)\n",
    "        \n",
    "        # Predict new close values\n",
    "        y = mdl.predict(scaler.fit_transform(i))\n",
    "        i['close'] = pd.Series(y, index=i.index)\n",
    "        \n",
    "        x = x.append(i).sort_values(['ticker', 'day'], ascending=[True, True])\n",
    "        print(x.tail())\n",
    "#     print(x.head())\n",
    "#     return mdl.predict(x)\n",
    "predict_future_stock_values(elastic, data, 10)"
   ]
  },
  {
   "cell_type": "code",
   "execution_count": 10,
   "metadata": {},
   "outputs": [
    {
     "data": {
      "text/plain": [
       "'\\nImprovements:\\n    - Linear Regression (+ Regularization)\\n    - Recurrent Neural Network (e.g. LSTM)\\n    - Convert time series to stationary\\n    - Uniform Scaling for each time series\\n'"
      ]
     },
     "execution_count": 10,
     "metadata": {},
     "output_type": "execute_result"
    }
   ],
   "source": [
    "\"\"\"\n",
    "Improvements:\n",
    "    - Linear Regression (+ Regularization)\n",
    "    - Recurrent Neural Network (e.g. LSTM)\n",
    "    - Convert time series to stationary\n",
    "    - Uniform Scaling for each time series\n",
    "\"\"\""
   ]
  }
 ],
 "metadata": {
  "kernelspec": {
   "display_name": "Python 3",
   "language": "python",
   "name": "python3"
  },
  "language_info": {
   "codemirror_mode": {
    "name": "ipython",
    "version": 3
   },
   "file_extension": ".py",
   "mimetype": "text/x-python",
   "name": "python",
   "nbconvert_exporter": "python",
   "pygments_lexer": "ipython3",
   "version": "3.6.4"
  }
 },
 "nbformat": 4,
 "nbformat_minor": 2
}
